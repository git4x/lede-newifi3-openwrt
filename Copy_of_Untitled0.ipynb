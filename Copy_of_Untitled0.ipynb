{
  "nbformat": 4,
  "nbformat_minor": 0,
  "metadata": {
    "colab": {
      "name": "Copy of Untitled0.ipynb",
      "provenance": [],
      "authorship_tag": "ABX9TyOq8oIgdQ1vuY8AEHDfpeI6",
      "include_colab_link": true
    },
    "kernelspec": {
      "name": "python3",
      "display_name": "Python 3"
    }
  },
  "cells": [
    {
      "cell_type": "markdown",
      "metadata": {
        "id": "view-in-github",
        "colab_type": "text"
      },
      "source": [
        "<a href=\"https://colab.research.google.com/github/silmace/newifi3-openwrt/blob/master/Copy_of_Untitled0.ipynb\" target=\"_parent\"><img src=\"https://colab.research.google.com/assets/colab-badge.svg\" alt=\"Open In Colab\"/></a>"
      ]
    },
    {
      "cell_type": "markdown",
      "metadata": {
        "id": "diwZ-sXcgCBR",
        "colab_type": "text"
      },
      "source": [
        "<b>复制以下隐藏代码粉贴在浏览器console！！不要关闭浏览器以免失效</b>\n",
        "\n",
        "\n",
        "<code>function ClickConnect(){\n",
        "console.log(\"Working\"); \n",
        "document.querySelector(\"colab-connect-button\").click() \n",
        "}setInterval(ClickConnect,6000)</code>"
      ]
    },
    {
      "cell_type": "code",
      "metadata": {
        "id": "Sq6uWWCwxwY0",
        "colab_type": "code",
        "cellView": "form",
        "colab": {}
      },
      "source": [
        "#@markdown <h3>← 输入了代码后运行以防止断开</h>\n",
        "\n",
        "\n",
        "import IPython\n",
        "from google.colab import output\n",
        "\n",
        "display(IPython.display.Javascript('''\n",
        " function ClickConnect(){\n",
        "   btn = document.querySelector(\"colab-connect-button\")\n",
        "   if (btn != null){\n",
        "     console.log(\"Click colab-connect-button\"); \n",
        "     btn.click() \n",
        "     }\n",
        "   \n",
        "   btn = document.getElementById('ok')\n",
        "   if (btn != null){\n",
        "     console.log(\"Click reconnect\"); \n",
        "     btn.click() \n",
        "     }\n",
        "  }\n",
        "  \n",
        "setInterval(ClickConnect,60000)\n",
        "'''))\n",
        "\n",
        "print(\"Done.\")"
      ],
      "execution_count": null,
      "outputs": []
    },
    {
      "cell_type": "code",
      "metadata": {
        "id": "LjgvNRRSeWk9",
        "colab_type": "code",
        "cellView": "form",
        "colab": {}
      },
      "source": [
        "#@markdown <h1> <p><b><center><font color=\"green\"\">同步数据</center></h>\n",
        "!curl https://rclone.org/install.sh | sudo bash\n",
        "###\n",
        "%cd /content/\n",
        "!git clone https://github.com/totalleecher/AutoRclone.git\n",
        "###\n",
        "%cd /content/AutoRclone\n",
        "!sudo pip3 install -r requirements.txt\n",
        " \n",
        "from IPython.display import HTML, clear_output\n",
        "clear_output()\n",
        "print(\"Successfully Installed\")\n",
        " \n",
        "from google.colab import drive\n",
        "drive.mount('/content/drive')\n",
        " \n",
        " \n",
        "!rclone copy \"/content/drive/My Drive/gclone/credentials.json\" \"/content/AutoRclone/\"\n",
        "!rclone copy \"/content/drive/My Drive/accounts/\" \"/content/AutoRclone/accounts/\"\n",
        " \n",
        "!bash <(wget -qO- https://git.io/gclone.sh)\n",
        " \n",
        "!rclone copy \"/content/drive/My Drive/gclone/\" \"/root/.config/rclone/\""
      ],
      "execution_count": null,
      "outputs": []
    },
    {
      "cell_type": "code",
      "metadata": {
        "id": "eqCG_8OhhNEm",
        "colab_type": "code",
        "cellView": "form",
        "colab": {
          "base_uri": "https://localhost:8080/",
          "height": 85
        },
        "outputId": "d970c6c2-d367-4c6f-cc47-b9ecfc61d5ac"
      },
      "source": [
        "#@markdown <h1> <p><b><center><font color=\"green\">开始用 Gclone 拷贝</center></h>\n",
        "name = \"gc\"\n",
        "source = \"\" #@param {type:\"string\"}\n",
        "destination = \"0ADQgPYutu8hIUk9PVA\"\n",
        "folder = \"\" #@param {type:\"string\"}\n",
        "cmd = f\"gclone copy {name}:{{{source}}} {name}:{{{destination}}}{folder} --drive-server-side-across-configs --transfers 30 -v\"\n",
        "!$cmd\n",
        " \n",
        "#@markdown <p>- source 为别人分享的目录\n",
        "#@markdown <p>- folder 是要保存的文件夹格式是 /电影/国产/成龙合集 不可以空格.</p>\n",
        "#@markdown <p>- 如果怕掉档案就多执行1次或2次，自动跳过已有资源。</p>"
      ],
      "execution_count": null,
      "outputs": [
        {
          "output_type": "stream",
          "text": [
            "2020/08/04 16:58:27 ERROR : .gitignore: Failed to copy: failed to make directory: googleapi: Error 403: The file limit for this shared drive has been exceeded., teamDriveFileLimitExceeded\n"
          ],
          "name": "stdout"
        }
      ]
    },
    {
      "cell_type": "code",
      "metadata": {
        "id": "2pyvknehwDHk",
        "colab_type": "code",
        "cellView": "form",
        "colab": {}
      },
      "source": [
        "#@markdown <h1> <p><b><center><font color=\"green\">开始用 Gclone 拷贝</center></h>\n",
        "name = \"gc\"\n",
        "source = \"\" #@param {type:\"string\"}\n",
        "destination = \"0ADQgPYutu8hIUk9PVA\"\n",
        "folder = \"\" #@param {type:\"string\"}\n",
        "cmd = f\"gclone copy {name}:{{{source}}} {name}:{{{destination}}}{folder} --drive-server-side-across-configs --transfers 30 -v\"\n",
        "!$cmd\n",
        " \n",
        "#@markdown <p>- source 为别人分享的目录\n",
        "#@markdown <p>- folder 是要保存的文件夹格式是 /电影/国产/成龙合集 不可以空格.</p>\n",
        "#@markdown <p>- 如果怕掉档案就多执行1次或2次，自动跳过已有资源。</p>"
      ],
      "execution_count": null,
      "outputs": []
    },
    {
      "cell_type": "code",
      "metadata": {
        "id": "qpDJ-oE4vNr2",
        "colab_type": "code",
        "cellView": "form",
        "colab": {}
      },
      "source": [
        "#@markdown <h1> <p><b><center><font color=\"green\">开始用 Gclone 拷贝</center></h>\n",
        "name = \"gc\"\n",
        "source = \"\" #@param {type:\"string\"}\n",
        "destination = \"0ADQgPYutu8hIUk9PVA\"\n",
        "folder = \"\" #@param {type:\"string\"}\n",
        "cmd = f\"gclone copy {name}:{{{source}}} {name}:{{{destination}}}{folder} --drive-server-side-across-configs --transfers 30 -v\"\n",
        "!$cmd\n",
        " \n",
        "#@markdown <p>- source 为别人分享的目录\n",
        "#@markdown <p>- folder 是要保存的文件夹格式是 /电影/国产/成龙合集 不可以空格.</p>\n",
        "#@markdown <p>- 如果怕掉档案就多执行1次或2次，自动跳过已有资源。</p>"
      ],
      "execution_count": null,
      "outputs": []
    },
    {
      "cell_type": "code",
      "metadata": {
        "id": "1eFZcFRiiXWV",
        "colab_type": "code",
        "cellView": "form",
        "colab": {}
      },
      "source": [
        "#@markdown <h3><b>←</b>查資料夾大小</h3>\n",
        "name = \"gc\" \n",
        "id = \"\" #@param {type:\"string\"}\n",
        "cmd = f\"gclone size {name}:{{{id}}} --disable listr --transfers 10\"\n",
        "!$cmd\n",
        "#@markdown <p>- name為gclone设置裡面remote的name\n",
        "#@markdown <p>- id 可以是源分享id或已经拷贝的 文件夹id"
      ],
      "execution_count": null,
      "outputs": []
    }
  ]
}